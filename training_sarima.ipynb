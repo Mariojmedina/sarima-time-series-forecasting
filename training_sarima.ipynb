{
 "cells": [
  {
   "cell_type": "markdown",
   "id": "0d7e19b8",
   "metadata": {},
   "source": [
    "# Time Series Forecasting with SARIMA\n",
    "\n",
    "This notebook demonstrates how to fit a Seasonal ARIMA (SARIMA) model to a time series and generate forecasts using the `statsmodels` library. We will use the classic **AirPassengers** dataset, which contains monthly totals of international airline passengers from 1949 to 1960. The series exhibits clear seasonality and trend, making it an ideal example for SARIMA models."
   ]
  },
  {
   "cell_type": "code",
   "execution_count": null,
   "id": "9b65092e",
   "metadata": {},
   "outputs": [],
   "source": [
    "import pandas as pd\n",
    "import matplotlib.pyplot as plt\n",
    "from statsmodels.tsa.statespace.sarimax import SARIMAX\n",
    "\n",
    "# Download the AirPassengers dataset\n",
    "url = \"https://raw.githubusercontent.com/jbrownlee/Datasets/master/airline-passengers.csv\"\n",
    "df = pd.read_csv(url)\n",
    "df.rename(columns={\"Passengers\": \"value\", \"Month\": \"date\"}, inplace=True)\n",
    "\n",
    "# Convert to datetime and set index\n",
    "df['date'] = pd.to_datetime(df['date'], infer_datetime_format=True)\n",
    "df.set_index('date', inplace=True)\n",
    "series = df['value'].astype(float)\n",
    "\n",
    "# Plot the original series\n",
    "series.plot(figsize=(10, 4), title='Monthly International Airline Passengers')\n",
    "plt.xlabel('Date')\n",
    "plt.ylabel('Passengers')\n",
    "plt.show()"
   ]
  },
  {
   "cell_type": "markdown",
   "id": "9b67b902",
   "metadata": {},
   "source": [
    "## Fit a SARIMA model\n",
    "\n",
    "We will fit a SARIMA model with non-seasonal order \\(1, 1, 1\\) and seasonal order \\(1, 1, 1, 12\\). These orders specify the autoregressive \\(p\\), differencing \\(d\\), and moving average \\(q\\) terms, as well as the seasonal counterparts and the seasonal period (12 for monthly data)."
   ]
  },
  {
   "cell_type": "code",
   "execution_count": null,
   "id": "01d873a4",
   "metadata": {},
   "outputs": [],
   "source": [
    "# Define SARIMA order and seasonal order\n",
    "order = (1, 1, 1)\n",
    "seasonal_order = (1, 1, 1, 12)\n",
    "\n",
    "# Fit the model\n",
    "model = SARIMAX(series, order=order, seasonal_order=seasonal_order, enforce_stationarity=False, enforce_invertibility=False)\n",
    "results = model.fit(disp=False)\n",
    "\n",
    "# Display the model summary\n",
    "results.summary()"
   ]
  },
  {
   "cell_type": "markdown",
   "id": "7d67a7cb",
   "metadata": {},
   "source": [
    "## Forecast future values\n",
    "\n",
    "After fitting the model, we can forecast the next 24 months. We also compute the 95\\% confidence intervals for the forecast."
   ]
  },
  {
   "cell_type": "code",
   "execution_count": null,
   "id": "cd8500ac",
   "metadata": {},
   "outputs": [],
   "source": [
    "# Forecast 24 future periods\n",
    "forecast_steps = 24\n",
    "forecast = results.get_forecast(steps=forecast_steps)\n",
    "\n",
    "# Create forecast index\n",
    "forecast_index = pd.date_range(series.index[-1], periods=forecast_steps + 1, freq=pd.infer_freq(series.index)).drop(series.index[-1])\n",
    "forecast_series = pd.Series(forecast.predicted_mean, index=forecast_index)\n",
    "conf_int = forecast.conf_int()\n",
    "conf_int.index = forecast_index\n",
    "\n",
    "# Plot historical data and forecast\n",
    "plt.figure(figsize=(10, 5))\n",
    "plt.plot(series.index, series.values, label='Historical')\n",
    "plt.plot(forecast_series.index, forecast_series.values, label='Forecast', color='C1')\n",
    "\n",
    "# Confidence intervals\n",
    "plt.fill_between(forecast_series.index, conf_int.iloc[:, 0], conf_int.iloc[:, 1], color='C1', alpha=0.3, label='95% CI')\n",
    "\n",
    "plt.title('SARIMA Forecast')\n",
    "plt.xlabel('Date')\n",
    "plt.ylabel('Passengers')\n",
    "plt.legend()\n",
    "plt.show()"
   ]
  },
  {
   "cell_type": "markdown",
   "id": "f620a756",
   "metadata": {},
   "source": [
    "You can experiment with different values of `(p, d, q)` and `(P, D, Q, s)` to improve the model, and you can replace the AirPassengers dataset with your own time-series data by loading it into `series` before fitting the model."
   ]
  }
 ],
 "metadata": {},
 "nbformat": 4,
 "nbformat_minor": 5
}
